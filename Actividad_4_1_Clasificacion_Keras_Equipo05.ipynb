{
  "cells": [
    {
      "cell_type": "markdown",
      "metadata": {
        "id": "view-in-github",
        "colab_type": "text"
      },
      "source": [
        "<a href=\"https://colab.research.google.com/github/JSOrtegaB/NavegacionAutonoma_Equipo5/blob/main/Actividad_4_1_Clasificacion_Keras_Equipo05.ipynb\" target=\"_parent\"><img src=\"https://colab.research.google.com/assets/colab-badge.svg\" alt=\"Open In Colab\"/></a>"
      ]
    },
    {
      "cell_type": "markdown",
      "metadata": {
        "id": "ZsFDJngF9BD8"
      },
      "source": [
        "# Actividad 4.1 - Ejercicio de clasificación con Keras\n",
        "## Equipo 5\n",
        " Juan Sebastián Ortega Briones | A01794327\n",
        "\n",
        " Carlos de Jesús Méndez Tornero | A01794879\n",
        "\n",
        " Enrique Correa Herrerías | A01794879\n",
        "\n",
        " Carlos Mario Larrahondo Valencia | A01794031\n"
      ]
    },
    {
      "cell_type": "markdown",
      "metadata": {
        "id": "y2xF83sT9BD9"
      },
      "source": [
        "# Se cargan las bibliotecas necesarias"
      ]
    },
    {
      "cell_type": "code",
      "execution_count": null,
      "metadata": {
        "id": "JRyHtRGC9BD9"
      },
      "outputs": [],
      "source": [
        "import os\n",
        "import matplotlib.image as mpimg\n",
        "import matplotlib.pyplot as plt\n",
        "import numpy as np\n",
        "import seaborn as sns\n",
        "import cv2\n",
        "from skimage.feature import hog\n",
        "from sklearn.metrics import classification_report, confusion_matrix"
      ]
    },
    {
      "cell_type": "markdown",
      "metadata": {
        "id": "WbWKMhDR9BD-"
      },
      "source": [
        "# Se importan los dos datasets\n",
        "### https://docs.python.org/3/library/glob.html"
      ]
    },
    {
      "cell_type": "code",
      "source": [
        "# Se si no existe se descarga el dataset\n",
        "%%capture\n",
        "if not os.path.exists('/content/DC-ped-dataset_base.zip/'):\n",
        "  !wget -c https://jsob.blob.core.windows.net/personal/DC-ped-dataset_base.zip\n",
        "\n",
        "if not os.path.exists('/content/DC-ped-dataset_base/'):\n",
        "  !unzip DC-ped-dataset_base.zip\n"
      ],
      "metadata": {
        "id": "GBIQfpUMjKsx"
      },
      "execution_count": null,
      "outputs": []
    },
    {
      "cell_type": "code",
      "execution_count": null,
      "metadata": {
        "tags": [],
        "id": "fi7cF5ZR9BD-",
        "colab": {
          "base_uri": "https://localhost:8080/"
        },
        "outputId": "9efd4fcb-a25e-411f-f6f9-5ffa59b223f7"
      },
      "outputs": [
        {
          "output_type": "stream",
          "name": "stdout",
          "text": [
            "Numero de imagenes con peatones 24000\n",
            "Numero de imagenes sin peatones 25000\n"
          ]
        }
      ],
      "source": [
        "# Se importan las imagenes\n",
        "import glob\n",
        "\n",
        "peaton = glob.glob(\"DC-ped-dataset_base/**/ped_examples/*.pgm\")\n",
        "no_peaton = glob.glob(\"DC-ped-dataset_base/**/non-ped_examples/*.pgm\")\n",
        "print(\"Numero de imagenes con peatones\",len(peaton))\n",
        "print(\"Numero de imagenes sin peatones\",len(no_peaton))"
      ]
    },
    {
      "cell_type": "code",
      "source": [
        "# Tamaño de las imagenes\n",
        "mpimg.imread(peaton[0])"
      ],
      "metadata": {
        "colab": {
          "base_uri": "https://localhost:8080/",
          "height": 76
        },
        "id": "_WhY90F_gSb9",
        "outputId": "34b01997-c296-4158-bacd-f4f0454d3c65"
      },
      "execution_count": null,
      "outputs": [
        {
          "output_type": "execute_result",
          "data": {
            "text/plain": [
              "array([[234, 230, 232, 227, 228, 229, 229, 229, 226, 225, 228, 224, 152,\n",
              "         96, 158, 232, 229, 229],\n",
              "       [239, 237, 238, 239, 241, 237, 237, 238, 238, 237, 240, 230, 155,\n",
              "        170, 221, 243, 241, 241],\n",
              "       [240, 240, 243, 240, 240, 239, 241, 239, 237, 239, 238, 238, 225,\n",
              "        214, 218, 213, 215, 210],\n",
              "       [117, 118, 115, 113, 112, 110, 115, 111, 118, 118, 109,  95, 108,\n",
              "        107, 103,  95,  93,  93],\n",
              "       [ 69,  73,  71,  69,  71,  77, 112,  97,  88,  98,  98,  82,  92,\n",
              "        104, 102,  96,  95,  89],\n",
              "       [ 68,  71,  71,  73,  69,  71,  85,  81,  85,  84,  79,  73,  87,\n",
              "        101, 100,  93,  93,  90],\n",
              "       [ 65,  65,  69,  71,  68,  68,  77,  81,  99, 103, 104,  85,  83,\n",
              "        100,  98,  91,  93,  90],\n",
              "       [ 69,  68,  68,  68,  67,  74,  83,  80,  91,  95, 101,  88,  86,\n",
              "        101,  98,  94,  94,  91],\n",
              "       [ 72,  67,  68,  66,  78,  92,  92,  82,  81,  75,  86,  91, 104,\n",
              "        107,  98,  98,  95,  93],\n",
              "       [ 65,  62,  63,  70, 104,  98,  81,  83,  79, 111, 165,  84,  90,\n",
              "        104, 105,  95,  95,  92],\n",
              "       [ 66,  61,  64, 101, 145, 128,  87,  78,  75,  95, 105,  93,  91,\n",
              "         84,  83,  88,  93,  91],\n",
              "       [ 63,  63,  70,  89, 106, 137,  87,  78,  69,  66,  73,  79,  90,\n",
              "         80,  81,  87,  94,  92],\n",
              "       [ 65,  74,  80,  72,  75,  85,  78,  78,  72,  71,  67,  74,  84,\n",
              "         88,  84,  84,  95,  94],\n",
              "       [ 87,  95,  75,  66,  63,  67,  75,  74,  71,  69,  65,  64,  70,\n",
              "         72,  75,  80,  96,  95],\n",
              "       [ 99,  97,  88,  76,  68,  67,  73,  74,  71,  69,  68,  63,  61,\n",
              "         65,  70,  88,  96,  98],\n",
              "       [ 83,  89,  98,  95,  82,  71,  71,  75,  73,  73,  74,  68,  65,\n",
              "         76,  91,  98, 102,  99],\n",
              "       [ 79,  91,  92,  88,  76,  74,  72,  76,  74,  75,  77,  75,  71,\n",
              "         80,  99, 100, 104, 102],\n",
              "       [ 84,  96,  93,  91,  73,  71,  69,  70,  71,  77,  77,  75,  75,\n",
              "         82, 100, 103, 105, 105],\n",
              "       [ 87,  85,  81,  81,  71,  70,  75,  74,  73,  76,  74,  74,  74,\n",
              "         85,  99, 103, 105, 107],\n",
              "       [ 92,  87,  86,  83,  81,  76,  77,  72,  75,  75,  74,  75,  76,\n",
              "         84,  98, 101, 103, 105],\n",
              "       [110, 113, 111,  95,  77,  77,  76,  69,  73,  77,  77,  75,  75,\n",
              "         84,  96,  99, 100, 101],\n",
              "       [112, 114, 114,  94,  80,  78,  77,  66,  71,  77,  77,  75,  75,\n",
              "         84,  90,  92,  92,  93],\n",
              "       [105, 105, 103,  90,  80,  84,  77,  62,  71,  77,  76,  75,  77,\n",
              "        107, 123, 122, 121, 125],\n",
              "       [140, 138, 137, 101,  75,  76,  69,  64,  74,  77,  76,  74,  79,\n",
              "        130, 145, 140, 144, 145],\n",
              "       [135, 129, 131,  88,  65,  61,  60,  89,  88,  62,  61,  60,  88,\n",
              "        136, 138, 138, 138, 139],\n",
              "       [155, 159, 157,  88,  60,  59,  59, 125, 118,  57,  58,  62, 113,\n",
              "        156, 159, 158, 154, 159],\n",
              "       [153, 153, 155,  91,  60,  58,  59, 103, 134,  59,  61,  65, 122,\n",
              "        153, 154, 158, 156, 153],\n",
              "       [154, 155, 151, 101,  60,  57,  60,  74, 136,  64,  64,  66, 122,\n",
              "        154, 156, 153, 154, 156],\n",
              "       [153, 151, 152, 134,  69,  57,  57,  58, 119,  76,  63,  64, 119,\n",
              "        150, 151, 156, 158, 154],\n",
              "       [144, 144, 144, 145, 109,  59,  57,  57,  77,  80,  62,  63, 119,\n",
              "        151, 150, 149, 144, 148],\n",
              "       [154, 153, 154, 149, 143,  86,  58,  57,  60,  60,  60,  64, 134,\n",
              "        155, 150, 154, 158, 159],\n",
              "       [141, 140, 142, 144, 145, 133,  80,  58,  58,  59,  59,  71, 135,\n",
              "        150, 153, 153, 151, 146],\n",
              "       [150, 151, 148, 144, 140, 144,  95,  59,  60,  56,  62, 101, 153,\n",
              "        155, 153, 151, 148, 156],\n",
              "       [143, 141, 143, 148, 148, 129,  72,  64,  94,  63,  72, 123, 143,\n",
              "        139, 145, 151, 148, 150],\n",
              "       [135, 136, 135, 131, 122, 114, 101, 106, 117,  91,  86, 106, 128,\n",
              "        134, 139, 143, 143, 140],\n",
              "       [128, 130, 128, 125, 121, 124, 125, 123, 122, 123, 123, 120, 122,\n",
              "        127, 123, 125, 126, 121]], dtype=uint8)"
            ],
            "text/html": [
              "<style>\n",
              "      .ndarray_repr .ndarray_raw_data {\n",
              "        display: none;\n",
              "      }\n",
              "      .ndarray_repr.show_array .ndarray_raw_data {\n",
              "        display: block;\n",
              "      }\n",
              "      .ndarray_repr.show_array .ndarray_image_preview {\n",
              "        display: none;\n",
              "      }\n",
              "      </style>\n",
              "      <div id=\"id-a58cfc78-bb97-4469-a796-656b38262d18\" class=\"ndarray_repr\"><pre>ndarray (36, 18) <button style=\"padding: 0 2px;\">show data</button></pre><img src=\"data:image/png;base64,iVBORw0KGgoAAAANSUhEUgAAABIAAAAkCAAAAAChhjU7AAAB40lEQVR4nAXBz04TURQH4N/5c2famUIJIRCNiAILXLlw7wOw8Wl8Nx/AhUs3mpi4MagJiLa0tJ25955z/D66q1yIAAupHz69vTZoEmq5ghCyles3vYOWEEOwOwfWGy1c6D2Zh6faYrfaizo49LO6c3Ox2nVY2yyIs4ZDa/5VdVVysjCQminCBt1X+lvDnaEaYdE2NmgjRBCQSiGf7WO7zX06kJ0a81iKPm025JfvxpW1hlAKPnu12Oxs+XHq95FSqHHz+O0MyDdt01cKIuVps1j9GSGcKU+qEevx5D7bMIlw31aWROAZ73UJDkBiN5YJRJdN1643rswE6+etmtZJrlmciLitOiGGpmRi7k4NoExCorKp8GgiwgEJgDlx4q5h5wBxhLvrofjyH4WRwgNO4cokIQ5jAEBmkI7wimasCQE+OYhQvfD4/lBHFiD4ZF6UtGReb2ucxu+IZ82ITHqk/qUELscfpE+OJGpizy4I3B2wyNQKODNx7RB0w0kIxMWFo9LLKWy5mIVbLaLOu3HorxjxVSNAMa6ydkHl/PZnLACda0lT0nUw8+t854SWisRYeNo3KP2c2OT5YYJbx+O26OThNp233fF2OQBZB4rH3XCaeiuL1MBhOrJbdL3HC1iODVP5DwQJKpP3StCQAAAAAElFTkSuQmCC\" class=\"ndarray_image_preview\" /><pre class=\"ndarray_raw_data\">array([[234, 230, 232, 227, 228, 229, 229, 229, 226, 225, 228, 224, 152,\n",
              "         96, 158, 232, 229, 229],\n",
              "       [239, 237, 238, 239, 241, 237, 237, 238, 238, 237, 240, 230, 155,\n",
              "        170, 221, 243, 241, 241],\n",
              "       [240, 240, 243, 240, 240, 239, 241, 239, 237, 239, 238, 238, 225,\n",
              "        214, 218, 213, 215, 210],\n",
              "       [117, 118, 115, 113, 112, 110, 115, 111, 118, 118, 109,  95, 108,\n",
              "        107, 103,  95,  93,  93],\n",
              "       [ 69,  73,  71,  69,  71,  77, 112,  97,  88,  98,  98,  82,  92,\n",
              "        104, 102,  96,  95,  89],\n",
              "       [ 68,  71,  71,  73,  69,  71,  85,  81,  85,  84,  79,  73,  87,\n",
              "        101, 100,  93,  93,  90],\n",
              "       [ 65,  65,  69,  71,  68,  68,  77,  81,  99, 103, 104,  85,  83,\n",
              "        100,  98,  91,  93,  90],\n",
              "       [ 69,  68,  68,  68,  67,  74,  83,  80,  91,  95, 101,  88,  86,\n",
              "        101,  98,  94,  94,  91],\n",
              "       [ 72,  67,  68,  66,  78,  92,  92,  82,  81,  75,  86,  91, 104,\n",
              "        107,  98,  98,  95,  93],\n",
              "       [ 65,  62,  63,  70, 104,  98,  81,  83,  79, 111, 165,  84,  90,\n",
              "        104, 105,  95,  95,  92],\n",
              "       [ 66,  61,  64, 101, 145, 128,  87,  78,  75,  95, 105,  93,  91,\n",
              "         84,  83,  88,  93,  91],\n",
              "       [ 63,  63,  70,  89, 106, 137,  87,  78,  69,  66,  73,  79,  90,\n",
              "         80,  81,  87,  94,  92],\n",
              "       [ 65,  74,  80,  72,  75,  85,  78,  78,  72,  71,  67,  74,  84,\n",
              "         88,  84,  84,  95,  94],\n",
              "       [ 87,  95,  75,  66,  63,  67,  75,  74,  71,  69,  65,  64,  70,\n",
              "         72,  75,  80,  96,  95],\n",
              "       [ 99,  97,  88,  76,  68,  67,  73,  74,  71,  69,  68,  63,  61,\n",
              "         65,  70,  88,  96,  98],\n",
              "       [ 83,  89,  98,  95,  82,  71,  71,  75,  73,  73,  74,  68,  65,\n",
              "         76,  91,  98, 102,  99],\n",
              "       [ 79,  91,  92,  88,  76,  74,  72,  76,  74,  75,  77,  75,  71,\n",
              "         80,  99, 100, 104, 102],\n",
              "       [ 84,  96,  93,  91,  73,  71,  69,  70,  71,  77,  77,  75,  75,\n",
              "         82, 100, 103, 105, 105],\n",
              "       [ 87,  85,  81,  81,  71,  70,  75,  74,  73,  76,  74,  74,  74,\n",
              "         85,  99, 103, 105, 107],\n",
              "       [ 92,  87,  86,  83,  81,  76,  77,  72,  75,  75,  74,  75,  76,\n",
              "         84,  98, 101, 103, 105],\n",
              "       [110, 113, 111,  95,  77,  77,  76,  69,  73,  77,  77,  75,  75,\n",
              "         84,  96,  99, 100, 101],\n",
              "       [112, 114, 114,  94,  80,  78,  77,  66,  71,  77,  77,  75,  75,\n",
              "         84,  90,  92,  92,  93],\n",
              "       [105, 105, 103,  90,  80,  84,  77,  62,  71,  77,  76,  75,  77,\n",
              "        107, 123, 122, 121, 125],\n",
              "       [140, 138, 137, 101,  75,  76,  69,  64,  74,  77,  76,  74,  79,\n",
              "        130, 145, 140, 144, 145],\n",
              "       [135, 129, 131,  88,  65,  61,  60,  89,  88,  62,  61,  60,  88,\n",
              "        136, 138, 138, 138, 139],\n",
              "       [155, 159, 157,  88,  60,  59,  59, 125, 118,  57,  58,  62, 113,\n",
              "        156, 159, 158, 154, 159],\n",
              "       [153, 153, 155,  91,  60,  58,  59, 103, 134,  59,  61,  65, 122,\n",
              "        153, 154, 158, 156, 153],\n",
              "       [154, 155, 151, 101,  60,  57,  60,  74, 136,  64,  64,  66, 122,\n",
              "        154, 156, 153, 154, 156],\n",
              "       [153, 151, 152, 134,  69,  57,  57,  58, 119,  76,  63,  64, 119,\n",
              "        150, 151, 156, 158, 154],\n",
              "       [144, 144, 144, 145, 109,  59,  57,  57,  77,  80,  62,  63, 119,\n",
              "        151, 150, 149, 144, 148],\n",
              "       [154, 153, 154, 149, 143,  86,  58,  57,  60,  60,  60,  64, 134,\n",
              "        155, 150, 154, 158, 159],\n",
              "       [141, 140, 142, 144, 145, 133,  80,  58,  58,  59,  59,  71, 135,\n",
              "        150, 153, 153, 151, 146],\n",
              "       [150, 151, 148, 144, 140, 144,  95,  59,  60,  56,  62, 101, 153,\n",
              "        155, 153, 151, 148, 156],\n",
              "       [143, 141, 143, 148, 148, 129,  72,  64,  94,  63,  72, 123, 143,\n",
              "        139, 145, 151, 148, 150],\n",
              "       [135, 136, 135, 131, 122, 114, 101, 106, 117,  91,  86, 106, 128,\n",
              "        134, 139, 143, 143, 140],\n",
              "       [128, 130, 128, 125, 121, 124, 125, 123, 122, 123, 123, 120, 122,\n",
              "        127, 123, 125, 126, 121]], dtype=uint8)</pre></div><script>\n",
              "      (() => {\n",
              "      const titles = ['show data', 'hide data'];\n",
              "      let index = 0\n",
              "      document.querySelector('#id-a58cfc78-bb97-4469-a796-656b38262d18 button').onclick = (e) => {\n",
              "        document.querySelector('#id-a58cfc78-bb97-4469-a796-656b38262d18').classList.toggle('show_array');\n",
              "        index = (++index) % 2;\n",
              "        document.querySelector('#id-a58cfc78-bb97-4469-a796-656b38262d18 button').textContent = titles[index];\n",
              "        e.preventDefault();\n",
              "        e.stopPropagation();\n",
              "      }\n",
              "      })();\n",
              "    </script>"
            ]
          },
          "metadata": {},
          "execution_count": 4
        }
      ]
    },
    {
      "cell_type": "markdown",
      "metadata": {
        "id": "KgOaN9jQ9BD_"
      },
      "source": [
        "# Se extraen las features del HOG para ambos tipos de datos"
      ]
    },
    {
      "cell_type": "code",
      "execution_count": null,
      "metadata": {
        "id": "yFj9Wxrq9BD_"
      },
      "outputs": [],
      "source": [
        "# Se actualizaron los nombre de variables para hacer coincidencia con peatones\n",
        "peaton_hog_accum = []\n",
        "\n",
        "for i in peaton:\n",
        "    img_gray = mpimg.imread(i)\n",
        "    # Se comentó esta línea ya que el dataset contenía las imágenes en escala de grises\n",
        "    #img_gray = cv2.cvtColor(img_color,cv2.COLOR_BGR2GRAY)\n",
        "\n",
        "    # Aquí vemos los cambios mencionados anteriormente en la función de hog para obtener features, de lo contrario nos daban 0\n",
        "    peaton_hog_feature, peaton_hog_img = hog(img_gray,\n",
        "                                               orientations = 9,\n",
        "                                               pixels_per_cell = (8,8),\n",
        "                                               cells_per_block = (2,2),\n",
        "                                               transform_sqrt = False,\n",
        "                                               visualize = True,\n",
        "                                               feature_vector = True)\n",
        "\n",
        "    peaton_hog_accum.append(peaton_hog_feature)"
      ]
    },
    {
      "cell_type": "code",
      "execution_count": null,
      "metadata": {
        "id": "FAxsj2Hp9BEA"
      },
      "outputs": [],
      "source": [
        "X_peaton = np.vstack(peaton_hog_accum).astype(np.float64)\n",
        "y_peaton = np.ones(len(X_peaton))"
      ]
    },
    {
      "cell_type": "code",
      "execution_count": null,
      "metadata": {
        "colab": {
          "base_uri": "https://localhost:8080/"
        },
        "id": "BEvvFC-T9BEA",
        "outputId": "a551bea6-c686-457b-a0b5-27f5baf1a3ab"
      },
      "outputs": [
        {
          "output_type": "execute_result",
          "data": {
            "text/plain": [
              "(24000, 108)"
            ]
          },
          "metadata": {},
          "execution_count": 7
        }
      ],
      "source": [
        "X_peaton.shape"
      ]
    },
    {
      "cell_type": "code",
      "execution_count": null,
      "metadata": {
        "colab": {
          "base_uri": "https://localhost:8080/"
        },
        "id": "neToaXL89BEA",
        "outputId": "987992df-45e5-4a17-d15d-1665830ce850"
      },
      "outputs": [
        {
          "output_type": "execute_result",
          "data": {
            "text/plain": [
              "(24000,)"
            ]
          },
          "metadata": {},
          "execution_count": 8
        }
      ],
      "source": [
        "y_peaton.shape"
      ]
    },
    {
      "cell_type": "code",
      "execution_count": null,
      "metadata": {
        "id": "XfZM716R9BEA"
      },
      "outputs": [],
      "source": [
        "# Se actualizaron los nombre de variables para hacer coincidencia con peatones\n",
        "nopeaton_hog_accum = []\n",
        "\n",
        "for i in no_peaton:\n",
        "    img_gray = mpimg.imread(i)\n",
        "    # Se comentó esta línea ya que el dataset contenía las imágenes en escala de grises\n",
        "    #img_gray = cv2.cvtColor(img_color,cv2.COLOR_BGR2GRAY)\n",
        "\n",
        "    # Aquí vemos los cambios mencionados anteriormente en la función de hog para obtener features, de lo contrario nos daban 0\n",
        "    nopeaton_hog_feature, nopeaton_hog_img = hog(img_gray,\n",
        "                                               orientations = 9,\n",
        "                                               pixels_per_cell = (8,8),\n",
        "                                               cells_per_block = (2,2),\n",
        "                                               transform_sqrt = False,\n",
        "                                               visualize = True,\n",
        "                                               feature_vector = True)\n",
        "\n",
        "    nopeaton_hog_accum.append(nopeaton_hog_feature)"
      ]
    },
    {
      "cell_type": "code",
      "execution_count": null,
      "metadata": {
        "id": "oS7oFxdi9BEB"
      },
      "outputs": [],
      "source": [
        "X_nopeaton = np.vstack(nopeaton_hog_accum).astype(np.float64)\n",
        "y_nopeaton = np.zeros(len(X_nopeaton))"
      ]
    },
    {
      "cell_type": "code",
      "execution_count": null,
      "metadata": {
        "colab": {
          "base_uri": "https://localhost:8080/"
        },
        "id": "az_0BtXK9BEB",
        "outputId": "0f55fe25-5c57-4187-a2b5-011151a8b440"
      },
      "outputs": [
        {
          "output_type": "execute_result",
          "data": {
            "text/plain": [
              "(25000, 108)"
            ]
          },
          "metadata": {},
          "execution_count": 11
        }
      ],
      "source": [
        "X_nopeaton.shape"
      ]
    },
    {
      "cell_type": "code",
      "execution_count": null,
      "metadata": {
        "colab": {
          "base_uri": "https://localhost:8080/"
        },
        "id": "jE-H9tmC9BEB",
        "outputId": "1c77f5ab-2d26-4c9b-d9ee-2adf40da3594"
      },
      "outputs": [
        {
          "output_type": "execute_result",
          "data": {
            "text/plain": [
              "(25000,)"
            ]
          },
          "metadata": {},
          "execution_count": 12
        }
      ],
      "source": [
        "y_nopeaton.shape"
      ]
    },
    {
      "cell_type": "markdown",
      "metadata": {
        "id": "zwsHcfEN9BEB"
      },
      "source": [
        "# Se combinan ambos tipos de datos para alimentar a la red neuronal"
      ]
    },
    {
      "cell_type": "code",
      "execution_count": null,
      "metadata": {
        "colab": {
          "base_uri": "https://localhost:8080/"
        },
        "id": "kgFjTWpX9BEB",
        "outputId": "a02823d4-7d89-4037-9227-6202e5556378"
      },
      "outputs": [
        {
          "output_type": "execute_result",
          "data": {
            "text/plain": [
              "(49000, 108)"
            ]
          },
          "metadata": {},
          "execution_count": 13
        }
      ],
      "source": [
        "X = np.vstack((X_peaton,X_nopeaton))\n",
        "X.shape"
      ]
    },
    {
      "cell_type": "code",
      "execution_count": null,
      "metadata": {
        "colab": {
          "base_uri": "https://localhost:8080/"
        },
        "id": "1_rwNL389BEC",
        "outputId": "84c87125-dd99-4e35-8260-e1d5449a3bd4"
      },
      "outputs": [
        {
          "output_type": "execute_result",
          "data": {
            "text/plain": [
              "(49000,)"
            ]
          },
          "metadata": {},
          "execution_count": 14
        }
      ],
      "source": [
        "y = np.hstack((y_peaton,y_nopeaton))\n",
        "y.shape"
      ]
    },
    {
      "cell_type": "markdown",
      "metadata": {
        "id": "TrhQ0cqc9BEC"
      },
      "source": [
        "# Se generan los datos de entrenamiento y de prueba"
      ]
    },
    {
      "cell_type": "code",
      "execution_count": null,
      "metadata": {
        "id": "tSdiv3Cm9BEC"
      },
      "outputs": [],
      "source": [
        "from sklearn.model_selection import train_test_split\n",
        "\n",
        "X_train, X_test, y_train, y_test = train_test_split(X, y, test_size = 0.3, random_state = 42)"
      ]
    },
    {
      "cell_type": "code",
      "execution_count": null,
      "metadata": {
        "colab": {
          "base_uri": "https://localhost:8080/"
        },
        "id": "RBnCgxhf9BEC",
        "outputId": "86b3bbcd-b8c4-48e2-97a0-a790d2b440d6"
      },
      "outputs": [
        {
          "output_type": "execute_result",
          "data": {
            "text/plain": [
              "(34300, 108)"
            ]
          },
          "metadata": {},
          "execution_count": 16
        }
      ],
      "source": [
        "X_train.shape"
      ]
    },
    {
      "cell_type": "code",
      "execution_count": null,
      "metadata": {
        "colab": {
          "base_uri": "https://localhost:8080/"
        },
        "id": "bg3cgQPV9BEC",
        "outputId": "db6ac865-4495-400c-d0e3-184e38417fd2"
      },
      "outputs": [
        {
          "output_type": "execute_result",
          "data": {
            "text/plain": [
              "(14700, 108)"
            ]
          },
          "metadata": {},
          "execution_count": 17
        }
      ],
      "source": [
        "X_test.shape"
      ]
    },
    {
      "cell_type": "markdown",
      "metadata": {
        "id": "RKAaXYH89BEC"
      },
      "source": [
        "# Se cargan las bibliotecas necesarias para definir la red neuronal"
      ]
    },
    {
      "cell_type": "code",
      "execution_count": null,
      "metadata": {
        "id": "1rMen9bj9BED"
      },
      "outputs": [],
      "source": [
        "import keras\n",
        "from keras.models import Sequential\n",
        "from keras.layers import Dense, Dropout\n",
        "from keras.optimizers import Adam"
      ]
    },
    {
      "cell_type": "code",
      "execution_count": null,
      "metadata": {
        "id": "qNObgjsZ9BED"
      },
      "outputs": [],
      "source": [
        "model = Sequential()\n",
        "model.add(Dense(units=128, input_dim=108, activation='relu'))       # Se crea la primera capa con las 108 entradas para coincidir con las caracteristicas de HOG\n",
        "model.add(Dropout(0.2))                                              # Se agrega un Dropout para evitar overfitting\n",
        "model.add(Dense(units=256, activation='relu'))                       # Se crea la segunda capa con 256 neuronas\n",
        "model.add(Dropout(0.2))                                              # Se agrega un Dropout para evitar overfitting\n",
        "model.add(Dense(units=128, activation='relu'))                       # Se crea la tercera capa con 128 neuronas\n",
        "model.add(Dense(1, activation='sigmoid'))                            # Se crea la capa de salida con una sola neurona y la función de activación sigmoid para clasificación binaria\n",
        "model.compile(optimizer=Adam(learning_rate=0.001), loss='binary_crossentropy',  metrics=['accuracy'])"
      ]
    },
    {
      "cell_type": "code",
      "execution_count": null,
      "metadata": {
        "colab": {
          "base_uri": "https://localhost:8080/"
        },
        "id": "sAcBFPMy9BED",
        "outputId": "2543f6ca-9234-4d45-8e34-84c948224d4a"
      },
      "outputs": [
        {
          "output_type": "stream",
          "name": "stdout",
          "text": [
            "Model: \"sequential\"\n",
            "_________________________________________________________________\n",
            " Layer (type)                Output Shape              Param #   \n",
            "=================================================================\n",
            " dense (Dense)               (None, 128)               13952     \n",
            "                                                                 \n",
            " dropout (Dropout)           (None, 128)               0         \n",
            "                                                                 \n",
            " dense_1 (Dense)             (None, 256)               33024     \n",
            "                                                                 \n",
            " dropout_1 (Dropout)         (None, 256)               0         \n",
            "                                                                 \n",
            " dense_2 (Dense)             (None, 128)               32896     \n",
            "                                                                 \n",
            " dense_3 (Dense)             (None, 1)                 129       \n",
            "                                                                 \n",
            "=================================================================\n",
            "Total params: 80001 (312.50 KB)\n",
            "Trainable params: 80001 (312.50 KB)\n",
            "Non-trainable params: 0 (0.00 Byte)\n",
            "_________________________________________________________________\n"
          ]
        }
      ],
      "source": [
        "# resumen del model\n",
        "model.summary()"
      ]
    },
    {
      "cell_type": "code",
      "execution_count": null,
      "metadata": {
        "colab": {
          "base_uri": "https://localhost:8080/"
        },
        "id": "qwmsTrwI9BED",
        "outputId": "17e84a0c-bae9-4837-ba7e-622ede3a7b71"
      },
      "outputs": [
        {
          "output_type": "stream",
          "name": "stdout",
          "text": [
            "Epoch 1/100\n",
            "134/134 - 4s - loss: 0.4842 - accuracy: 0.7643 - 4s/epoch - 32ms/step\n",
            "Epoch 2/100\n",
            "134/134 - 0s - loss: 0.3798 - accuracy: 0.8284 - 410ms/epoch - 3ms/step\n",
            "Epoch 3/100\n",
            "134/134 - 0s - loss: 0.3501 - accuracy: 0.8441 - 426ms/epoch - 3ms/step\n",
            "Epoch 4/100\n",
            "134/134 - 0s - loss: 0.3299 - accuracy: 0.8549 - 402ms/epoch - 3ms/step\n",
            "Epoch 5/100\n",
            "134/134 - 0s - loss: 0.3195 - accuracy: 0.8606 - 448ms/epoch - 3ms/step\n",
            "Epoch 6/100\n",
            "134/134 - 0s - loss: 0.3046 - accuracy: 0.8672 - 418ms/epoch - 3ms/step\n",
            "Epoch 7/100\n",
            "134/134 - 0s - loss: 0.2934 - accuracy: 0.8736 - 398ms/epoch - 3ms/step\n",
            "Epoch 8/100\n",
            "134/134 - 0s - loss: 0.2826 - accuracy: 0.8785 - 451ms/epoch - 3ms/step\n",
            "Epoch 9/100\n",
            "134/134 - 0s - loss: 0.2772 - accuracy: 0.8815 - 394ms/epoch - 3ms/step\n",
            "Epoch 10/100\n",
            "134/134 - 0s - loss: 0.2665 - accuracy: 0.8874 - 441ms/epoch - 3ms/step\n",
            "Epoch 11/100\n",
            "134/134 - 0s - loss: 0.2629 - accuracy: 0.8893 - 412ms/epoch - 3ms/step\n",
            "Epoch 12/100\n",
            "134/134 - 0s - loss: 0.2551 - accuracy: 0.8917 - 445ms/epoch - 3ms/step\n",
            "Epoch 13/100\n",
            "134/134 - 0s - loss: 0.2477 - accuracy: 0.8952 - 439ms/epoch - 3ms/step\n",
            "Epoch 14/100\n",
            "134/134 - 1s - loss: 0.2416 - accuracy: 0.8982 - 510ms/epoch - 4ms/step\n",
            "Epoch 15/100\n",
            "134/134 - 1s - loss: 0.2401 - accuracy: 0.8994 - 576ms/epoch - 4ms/step\n",
            "Epoch 16/100\n",
            "134/134 - 1s - loss: 0.2322 - accuracy: 0.9032 - 601ms/epoch - 4ms/step\n",
            "Epoch 17/100\n",
            "134/134 - 1s - loss: 0.2275 - accuracy: 0.9049 - 604ms/epoch - 5ms/step\n",
            "Epoch 18/100\n",
            "134/134 - 1s - loss: 0.2218 - accuracy: 0.9071 - 628ms/epoch - 5ms/step\n",
            "Epoch 19/100\n",
            "134/134 - 1s - loss: 0.2170 - accuracy: 0.9099 - 633ms/epoch - 5ms/step\n",
            "Epoch 20/100\n",
            "134/134 - 0s - loss: 0.2122 - accuracy: 0.9140 - 447ms/epoch - 3ms/step\n",
            "Epoch 21/100\n",
            "134/134 - 0s - loss: 0.2114 - accuracy: 0.9116 - 451ms/epoch - 3ms/step\n",
            "Epoch 22/100\n",
            "134/134 - 0s - loss: 0.2058 - accuracy: 0.9150 - 459ms/epoch - 3ms/step\n",
            "Epoch 23/100\n",
            "134/134 - 0s - loss: 0.1975 - accuracy: 0.9180 - 440ms/epoch - 3ms/step\n",
            "Epoch 24/100\n",
            "134/134 - 0s - loss: 0.1985 - accuracy: 0.9187 - 439ms/epoch - 3ms/step\n",
            "Epoch 25/100\n",
            "134/134 - 0s - loss: 0.1972 - accuracy: 0.9199 - 409ms/epoch - 3ms/step\n",
            "Epoch 26/100\n",
            "134/134 - 0s - loss: 0.1922 - accuracy: 0.9220 - 436ms/epoch - 3ms/step\n",
            "Epoch 27/100\n",
            "134/134 - 0s - loss: 0.1917 - accuracy: 0.9217 - 431ms/epoch - 3ms/step\n",
            "Epoch 28/100\n",
            "134/134 - 0s - loss: 0.1887 - accuracy: 0.9230 - 406ms/epoch - 3ms/step\n",
            "Epoch 29/100\n",
            "134/134 - 0s - loss: 0.1833 - accuracy: 0.9256 - 422ms/epoch - 3ms/step\n",
            "Epoch 30/100\n",
            "134/134 - 0s - loss: 0.1782 - accuracy: 0.9285 - 426ms/epoch - 3ms/step\n",
            "Epoch 31/100\n",
            "134/134 - 0s - loss: 0.1775 - accuracy: 0.9297 - 434ms/epoch - 3ms/step\n",
            "Epoch 32/100\n",
            "134/134 - 0s - loss: 0.1783 - accuracy: 0.9263 - 413ms/epoch - 3ms/step\n",
            "Epoch 33/100\n",
            "134/134 - 0s - loss: 0.1742 - accuracy: 0.9287 - 423ms/epoch - 3ms/step\n",
            "Epoch 34/100\n",
            "134/134 - 0s - loss: 0.1737 - accuracy: 0.9302 - 424ms/epoch - 3ms/step\n",
            "Epoch 35/100\n",
            "134/134 - 0s - loss: 0.1688 - accuracy: 0.9315 - 451ms/epoch - 3ms/step\n",
            "Epoch 36/100\n",
            "134/134 - 0s - loss: 0.1667 - accuracy: 0.9320 - 430ms/epoch - 3ms/step\n",
            "Epoch 37/100\n",
            "134/134 - 0s - loss: 0.1652 - accuracy: 0.9318 - 395ms/epoch - 3ms/step\n",
            "Epoch 38/100\n",
            "134/134 - 0s - loss: 0.1635 - accuracy: 0.9336 - 405ms/epoch - 3ms/step\n",
            "Epoch 39/100\n",
            "134/134 - 0s - loss: 0.1620 - accuracy: 0.9345 - 414ms/epoch - 3ms/step\n",
            "Epoch 40/100\n",
            "134/134 - 0s - loss: 0.1601 - accuracy: 0.9364 - 441ms/epoch - 3ms/step\n",
            "Epoch 41/100\n",
            "134/134 - 0s - loss: 0.1547 - accuracy: 0.9373 - 426ms/epoch - 3ms/step\n",
            "Epoch 42/100\n",
            "134/134 - 0s - loss: 0.1615 - accuracy: 0.9357 - 471ms/epoch - 4ms/step\n",
            "Epoch 43/100\n",
            "134/134 - 1s - loss: 0.1559 - accuracy: 0.9368 - 559ms/epoch - 4ms/step\n",
            "Epoch 44/100\n",
            "134/134 - 1s - loss: 0.1537 - accuracy: 0.9387 - 601ms/epoch - 4ms/step\n",
            "Epoch 45/100\n",
            "134/134 - 1s - loss: 0.1503 - accuracy: 0.9396 - 613ms/epoch - 5ms/step\n",
            "Epoch 46/100\n",
            "134/134 - 1s - loss: 0.1514 - accuracy: 0.9394 - 631ms/epoch - 5ms/step\n",
            "Epoch 47/100\n",
            "134/134 - 1s - loss: 0.1472 - accuracy: 0.9413 - 642ms/epoch - 5ms/step\n",
            "Epoch 48/100\n",
            "134/134 - 1s - loss: 0.1449 - accuracy: 0.9433 - 511ms/epoch - 4ms/step\n",
            "Epoch 49/100\n",
            "134/134 - 0s - loss: 0.1427 - accuracy: 0.9436 - 442ms/epoch - 3ms/step\n",
            "Epoch 50/100\n",
            "134/134 - 0s - loss: 0.1445 - accuracy: 0.9423 - 443ms/epoch - 3ms/step\n",
            "Epoch 51/100\n",
            "134/134 - 0s - loss: 0.1455 - accuracy: 0.9425 - 432ms/epoch - 3ms/step\n",
            "Epoch 52/100\n",
            "134/134 - 0s - loss: 0.1419 - accuracy: 0.9436 - 419ms/epoch - 3ms/step\n",
            "Epoch 53/100\n",
            "134/134 - 0s - loss: 0.1405 - accuracy: 0.9459 - 418ms/epoch - 3ms/step\n",
            "Epoch 54/100\n",
            "134/134 - 0s - loss: 0.1391 - accuracy: 0.9438 - 443ms/epoch - 3ms/step\n",
            "Epoch 55/100\n",
            "134/134 - 0s - loss: 0.1392 - accuracy: 0.9450 - 415ms/epoch - 3ms/step\n",
            "Epoch 56/100\n",
            "134/134 - 0s - loss: 0.1362 - accuracy: 0.9472 - 406ms/epoch - 3ms/step\n",
            "Epoch 57/100\n",
            "134/134 - 0s - loss: 0.1335 - accuracy: 0.9476 - 430ms/epoch - 3ms/step\n",
            "Epoch 58/100\n",
            "134/134 - 0s - loss: 0.1360 - accuracy: 0.9464 - 454ms/epoch - 3ms/step\n",
            "Epoch 59/100\n",
            "134/134 - 0s - loss: 0.1306 - accuracy: 0.9483 - 426ms/epoch - 3ms/step\n",
            "Epoch 60/100\n",
            "134/134 - 0s - loss: 0.1351 - accuracy: 0.9463 - 446ms/epoch - 3ms/step\n",
            "Epoch 61/100\n",
            "134/134 - 0s - loss: 0.1292 - accuracy: 0.9490 - 422ms/epoch - 3ms/step\n",
            "Epoch 62/100\n",
            "134/134 - 0s - loss: 0.1283 - accuracy: 0.9503 - 418ms/epoch - 3ms/step\n",
            "Epoch 63/100\n",
            "134/134 - 0s - loss: 0.1259 - accuracy: 0.9497 - 438ms/epoch - 3ms/step\n",
            "Epoch 64/100\n",
            "134/134 - 0s - loss: 0.1271 - accuracy: 0.9493 - 420ms/epoch - 3ms/step\n",
            "Epoch 65/100\n",
            "134/134 - 0s - loss: 0.1274 - accuracy: 0.9506 - 450ms/epoch - 3ms/step\n",
            "Epoch 66/100\n",
            "134/134 - 0s - loss: 0.1287 - accuracy: 0.9489 - 420ms/epoch - 3ms/step\n",
            "Epoch 67/100\n",
            "134/134 - 0s - loss: 0.1275 - accuracy: 0.9494 - 423ms/epoch - 3ms/step\n",
            "Epoch 68/100\n",
            "134/134 - 0s - loss: 0.1227 - accuracy: 0.9519 - 447ms/epoch - 3ms/step\n",
            "Epoch 69/100\n",
            "134/134 - 0s - loss: 0.1223 - accuracy: 0.9514 - 439ms/epoch - 3ms/step\n",
            "Epoch 70/100\n",
            "134/134 - 0s - loss: 0.1212 - accuracy: 0.9527 - 442ms/epoch - 3ms/step\n",
            "Epoch 71/100\n",
            "134/134 - 1s - loss: 0.1183 - accuracy: 0.9535 - 572ms/epoch - 4ms/step\n",
            "Epoch 72/100\n",
            "134/134 - 1s - loss: 0.1196 - accuracy: 0.9526 - 598ms/epoch - 4ms/step\n",
            "Epoch 73/100\n",
            "134/134 - 1s - loss: 0.1201 - accuracy: 0.9532 - 637ms/epoch - 5ms/step\n",
            "Epoch 74/100\n",
            "134/134 - 1s - loss: 0.1129 - accuracy: 0.9557 - 604ms/epoch - 5ms/step\n",
            "Epoch 75/100\n",
            "134/134 - 1s - loss: 0.1181 - accuracy: 0.9536 - 646ms/epoch - 5ms/step\n",
            "Epoch 76/100\n",
            "134/134 - 0s - loss: 0.1133 - accuracy: 0.9560 - 416ms/epoch - 3ms/step\n",
            "Epoch 77/100\n",
            "134/134 - 0s - loss: 0.1174 - accuracy: 0.9537 - 436ms/epoch - 3ms/step\n",
            "Epoch 78/100\n",
            "134/134 - 0s - loss: 0.1150 - accuracy: 0.9542 - 410ms/epoch - 3ms/step\n",
            "Epoch 79/100\n",
            "134/134 - 0s - loss: 0.1106 - accuracy: 0.9578 - 453ms/epoch - 3ms/step\n",
            "Epoch 80/100\n",
            "134/134 - 0s - loss: 0.1121 - accuracy: 0.9561 - 426ms/epoch - 3ms/step\n",
            "Epoch 81/100\n",
            "134/134 - 1s - loss: 0.1145 - accuracy: 0.9562 - 632ms/epoch - 5ms/step\n",
            "Epoch 82/100\n",
            "134/134 - 1s - loss: 0.1118 - accuracy: 0.9571 - 534ms/epoch - 4ms/step\n",
            "Epoch 83/100\n",
            "134/134 - 0s - loss: 0.1119 - accuracy: 0.9568 - 427ms/epoch - 3ms/step\n",
            "Epoch 84/100\n",
            "134/134 - 0s - loss: 0.1119 - accuracy: 0.9576 - 414ms/epoch - 3ms/step\n",
            "Epoch 85/100\n",
            "134/134 - 0s - loss: 0.1102 - accuracy: 0.9583 - 423ms/epoch - 3ms/step\n",
            "Epoch 86/100\n",
            "134/134 - 0s - loss: 0.1109 - accuracy: 0.9569 - 426ms/epoch - 3ms/step\n",
            "Epoch 87/100\n",
            "134/134 - 0s - loss: 0.1035 - accuracy: 0.9594 - 417ms/epoch - 3ms/step\n",
            "Epoch 88/100\n",
            "134/134 - 0s - loss: 0.1081 - accuracy: 0.9587 - 441ms/epoch - 3ms/step\n",
            "Epoch 89/100\n",
            "134/134 - 0s - loss: 0.1063 - accuracy: 0.9590 - 422ms/epoch - 3ms/step\n",
            "Epoch 90/100\n",
            "134/134 - 0s - loss: 0.1059 - accuracy: 0.9598 - 460ms/epoch - 3ms/step\n",
            "Epoch 91/100\n",
            "134/134 - 0s - loss: 0.1051 - accuracy: 0.9601 - 411ms/epoch - 3ms/step\n",
            "Epoch 92/100\n",
            "134/134 - 0s - loss: 0.1107 - accuracy: 0.9563 - 431ms/epoch - 3ms/step\n",
            "Epoch 93/100\n",
            "134/134 - 0s - loss: 0.1060 - accuracy: 0.9601 - 433ms/epoch - 3ms/step\n",
            "Epoch 94/100\n",
            "134/134 - 0s - loss: 0.1039 - accuracy: 0.9597 - 402ms/epoch - 3ms/step\n",
            "Epoch 95/100\n",
            "134/134 - 0s - loss: 0.1042 - accuracy: 0.9606 - 443ms/epoch - 3ms/step\n",
            "Epoch 96/100\n",
            "134/134 - 0s - loss: 0.1030 - accuracy: 0.9603 - 404ms/epoch - 3ms/step\n",
            "Epoch 97/100\n",
            "134/134 - 0s - loss: 0.1058 - accuracy: 0.9592 - 418ms/epoch - 3ms/step\n",
            "Epoch 98/100\n",
            "134/134 - 1s - loss: 0.0997 - accuracy: 0.9629 - 535ms/epoch - 4ms/step\n",
            "Epoch 99/100\n",
            "134/134 - 1s - loss: 0.1034 - accuracy: 0.9593 - 625ms/epoch - 5ms/step\n",
            "Epoch 100/100\n",
            "134/134 - 1s - loss: 0.1016 - accuracy: 0.9614 - 569ms/epoch - 4ms/step\n"
          ]
        }
      ],
      "source": [
        "hist = model.fit(x=X_train, y=y_train, verbose=2, batch_size=256,epochs=100, shuffle='true')  # Se entrena la red"
      ]
    },
    {
      "cell_type": "code",
      "execution_count": null,
      "metadata": {
        "colab": {
          "base_uri": "https://localhost:8080/",
          "height": 466
        },
        "id": "5yQ250GD9BED",
        "outputId": "ab04b294-7808-40aa-9fe3-6d2b9b373e87"
      },
      "outputs": [
        {
          "output_type": "execute_result",
          "data": {
            "text/plain": [
              "Text(0.5, 0, 'Epoca')"
            ]
          },
          "metadata": {},
          "execution_count": 22
        },
        {
          "output_type": "display_data",
          "data": {
            "text/plain": [
              "<Figure size 640x480 with 1 Axes>"
            ],
            "image/png": "[encoded data removed]"
          },
          "metadata": {}
        }
      ],
      "source": [
        "# Exactitud del modelo\n",
        "plt.plot(hist.history['accuracy'])\n",
        "plt.legend(['Exactitud'])\n",
        "plt.ylabel('Exactitud')\n",
        "plt.xlabel('Epoca')"
      ]
    },
    {
      "cell_type": "code",
      "execution_count": null,
      "metadata": {
        "colab": {
          "base_uri": "https://localhost:8080/",
          "height": 489
        },
        "id": "V8cfTYUK9BED",
        "outputId": "ce2823dc-f002-4549-b980-8b57f985e67c"
      },
      "outputs": [
        {
          "output_type": "execute_result",
          "data": {
            "text/plain": [
              "Text(0.5, 0, 'Epoca')"
            ]
          },
          "metadata": {},
          "execution_count": 23
        },
        {
          "output_type": "display_data",
          "data": {
            "text/plain": [
              "<Figure size 640x480 with 1 Axes>"
            ],
            "image/png": "[encoded data removed]"
          },
          "metadata": {}
        }
      ],
      "source": [
        "# Función de pérdida\n",
        "plt.plot(hist.history['loss'])\n",
        "plt.legend(['Error'])\n",
        "plt.title('Error')\n",
        "plt.xlabel('Epoca')"
      ]
    },
    {
      "cell_type": "code",
      "execution_count": null,
      "metadata": {
        "colab": {
          "base_uri": "https://localhost:8080/"
        },
        "id": "2bI4SSqx9BEE",
        "outputId": "7af29169-32c9-4c65-a741-4c8316784041"
      },
      "outputs": [
        {
          "output_type": "stream",
          "name": "stdout",
          "text": [
            "460/460 [==============================] - 2s 4ms/step - loss: 0.2674 - accuracy: 0.9048\n",
            "Test loss: 0.2673644423484802\n",
            "Test accuracy: 0.9047619104385376\n"
          ]
        }
      ],
      "source": [
        "scores = model.evaluate(X_test, y_test, verbose=1) # Se evalua el modelo con los datos de prueba\n",
        "print('Test loss:', scores[0])\n",
        "print('Test accuracy:', scores[1])"
      ]
    },
    {
      "cell_type": "code",
      "source": [
        "# Generar predicciones con el modelo\n",
        "y_pred = (model.predict(X_test) > 0.5).astype(\"int32\")\n",
        "\n",
        "# Crear la matriz de confusión\n",
        "cm = confusion_matrix(y_test, y_pred)\n",
        "\n",
        "# Graficar la matriz de confusión\n",
        "plt.figure(figsize=(10, 7))\n",
        "sns.heatmap(cm, annot=True, fmt=\"d\", cmap=\"Blues\")\n",
        "plt.xlabel('Predicción')\n",
        "plt.ylabel('Verdad')\n",
        "plt.title('Matriz de Confusión')\n",
        "plt.show()"
      ],
      "metadata": {
        "colab": {
          "base_uri": "https://localhost:8080/",
          "height": 658
        },
        "id": "DAHh3t0sb2C_",
        "outputId": "019c0054-85d8-4a1f-9f13-d9aa7557277a"
      },
      "execution_count": null,
      "outputs": [
        {
          "output_type": "stream",
          "name": "stdout",
          "text": [
            "460/460 [==============================] - 1s 2ms/step\n"
          ]
        },
        {
          "output_type": "display_data",
          "data": {
            "text/plain": [
              "<Figure size 1000x700 with 2 Axes>"
            ],
            "image/png": "[encoded data removed]"
          },
          "metadata": {}
        }
      ]
    },
    {
      "cell_type": "code",
      "source": [
        "# Mostrar el reporte de clasificación\n",
        "report = classification_report(y_test, y_pred, target_names=[\"No Peatón\", \"Peatón\"])\n",
        "print(\"Reporte de Clasificación:\\n\", report)"
      ],
      "metadata": {
        "id": "0hc03KzScdKV",
        "outputId": "16619bc2-5939-4f29-fae6-9794a31a2241",
        "colab": {
          "base_uri": "https://localhost:8080/"
        }
      },
      "execution_count": null,
      "outputs": [
        {
          "output_type": "stream",
          "name": "stdout",
          "text": [
            "Reporte de Clasificación:\n",
            "               precision    recall  f1-score   support\n",
            "\n",
            "   No Peatón       0.93      0.89      0.91      7533\n",
            "      Peatón       0.89      0.92      0.90      7167\n",
            "\n",
            "    accuracy                           0.90     14700\n",
            "   macro avg       0.91      0.91      0.90     14700\n",
            "weighted avg       0.91      0.90      0.90     14700\n",
            "\n"
          ]
        }
      ]
    },
    {
      "cell_type": "markdown",
      "source": [
        "# Biografía\n",
        "\n",
        "- Venturi, L. y Korda, K. (2020). Hands-On Vision and Behavior For Self-Driving Cars. Packt Publishing\n",
        "- Ranjan, S. y Senthamilarasu S.(2020). Applied Deep Learning and Computer Vision for Self-Driving Cars. Packt Publishing Ltd.\n",
        "- Antonio, D. (2023). Redes Neuronales para Clasificación Multiclase [Video]. ITESM\n",
        "- Antonio, D. (2023). Redes Neuronales Profundas para Clasificación Multiclase [Video]. ITESM\n",
        "- Team, K. (n.d.). Keras documentation: The Sequential model. https://keras.io/guides/sequential_model/\n",
        "\n"
      ],
      "metadata": {
        "id": "fjca661bqIce"
      }
    }
  ],
  "metadata": {
    "kernelspec": {
      "display_name": "Python 3",
      "name": "python3"
    },
    "language_info": {
      "codemirror_mode": {
        "name": "ipython",
        "version": 3
      },
      "file_extension": ".py",
      "mimetype": "text/x-python",
      "name": "python",
      "nbconvert_exporter": "python",
      "pygments_lexer": "ipython3",
      "version": "3.11.7"
    },
    "colab": {
      "provenance": [],
      "gpuType": "T4",
      "include_colab_link": true
    },
    "accelerator": "GPU"
  },
  "nbformat": 4,
  "nbformat_minor": 0
}